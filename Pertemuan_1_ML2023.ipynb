{
  "nbformat": 4,
  "nbformat_minor": 0,
  "metadata": {
    "colab": {
      "provenance": []
    },
    "kernelspec": {
      "name": "python3",
      "display_name": "Python 3"
    },
    "language_info": {
      "name": "python"
    }
  },
  "cells": [
    {
      "cell_type": "markdown",
      "source": [
        "## **Tipe Data dan Variabel**"
      ],
      "metadata": {
        "id": "RkBNTrJl7VzL"
      }
    },
    {
      "cell_type": "code",
      "source": [
        "print (\"Selamat belajar Machine Learning\") #sintaks pertama untuk mencetak teks dengan petik ganda"
      ],
      "metadata": {
        "id": "Ly0zRKq47TF5",
        "colab": {
          "base_uri": "https://localhost:8080/"
        },
        "outputId": "7466c1b6-ac7e-4c80-aaf8-21486e199e25"
      },
      "execution_count": 1,
      "outputs": [
        {
          "output_type": "stream",
          "name": "stdout",
          "text": [
            "Selamat belajar Machine Learning\n"
          ]
        }
      ]
    },
    {
      "cell_type": "code",
      "source": [
        "print ('Selamat belajar Machine Learning') #sintaks kedua untuk mencetak teks dengan petik tunggal"
      ],
      "metadata": {
        "colab": {
          "base_uri": "https://localhost:8080/"
        },
        "id": "NViIG67mozId",
        "outputId": "345baffb-3175-46a7-f47a-5cec8816f058"
      },
      "execution_count": 22,
      "outputs": [
        {
          "output_type": "stream",
          "name": "stdout",
          "text": [
            "Selamat belajar Machine Learning\n"
          ]
        }
      ]
    },
    {
      "cell_type": "code",
      "source": [
        "print (10+5)\n",
        "print ('10+5')"
      ],
      "metadata": {
        "colab": {
          "base_uri": "https://localhost:8080/"
        },
        "id": "Z9UrZ_zRwVnR",
        "outputId": "80ea6a96-18b4-4ec6-ce80-fb411df1e8bd"
      },
      "execution_count": 23,
      "outputs": [
        {
          "output_type": "stream",
          "name": "stdout",
          "text": [
            "15\n",
            "10+5\n"
          ]
        }
      ]
    },
    {
      "cell_type": "code",
      "source": [
        "nama = \"Chintya\"\n",
        "usia = 19\n",
        "\n",
        "print (\"Nama mahasiswa itu\", nama, \"usianya\", usia)"
      ],
      "metadata": {
        "colab": {
          "base_uri": "https://localhost:8080/"
        },
        "id": "-TNC6jxQxpqn",
        "outputId": "25d159ac-aa98-4129-dab4-6af93bf2f933"
      },
      "execution_count": 21,
      "outputs": [
        {
          "output_type": "stream",
          "name": "stdout",
          "text": [
            "Nama mahasiswa itu Chintya usianya 19\n"
          ]
        }
      ]
    },
    {
      "cell_type": "code",
      "source": [
        "namaDepan = \"Chintya\"\n",
        "namaBelakang = \"Santoso\"\n",
        "nama = namaDepan +\" \"+ namaBelakang\n",
        "\n",
        "print (\"Nama mahasiswa itu \", nama)"
      ],
      "metadata": {
        "colab": {
          "base_uri": "https://localhost:8080/"
        },
        "id": "Hm_1PJCq8Och",
        "outputId": "48db8da5-ea0c-4bc1-cb48-c1e70f873f6c"
      },
      "execution_count": 4,
      "outputs": [
        {
          "output_type": "stream",
          "name": "stdout",
          "text": [
            "Nama mahasiswa itu  Chintya Santoso\n"
          ]
        }
      ]
    },
    {
      "cell_type": "code",
      "source": [
        "mahasiswa1 = \"Chintya\"\n",
        "mahasiswa2 = \"Annisa\"\n",
        "\n",
        "print (\"Ada dua mahasiswi bernama \",mahasiswa1,\" dan \",mahasiswa2)"
      ],
      "metadata": {
        "colab": {
          "base_uri": "https://localhost:8080/"
        },
        "id": "pDxFnCyhkhR1",
        "outputId": "28361475-5083-4d7e-ea53-5154c1bad416"
      },
      "execution_count": 16,
      "outputs": [
        {
          "output_type": "stream",
          "name": "stdout",
          "text": [
            "Ada dua mahasiswi bernama  Chintya  dan  Annisa\n"
          ]
        }
      ]
    },
    {
      "cell_type": "code",
      "source": [
        "print(\"Ada dua mahasiswi bernama {} dan {}\".format(\"Chintya\", \"Annisa\"))\n",
        "# Chintya dan Annisa\n",
        "\n",
        "print(\"Ada dua mahasiswi bernama {1} dan {0}\".format(\"Chintya\", \"Annisa\"))\n",
        "# Annisa dan Chintya"
      ],
      "metadata": {
        "colab": {
          "base_uri": "https://localhost:8080/"
        },
        "id": "FQ7ldASF1K79",
        "outputId": "8b7d31c8-5a66-447c-c4a4-55e8fba7c4ec"
      },
      "execution_count": 13,
      "outputs": [
        {
          "output_type": "stream",
          "name": "stdout",
          "text": [
            "Ada dua mahasiswi bernama Chintya dan Annisa\n",
            "Ada dua mahasiswi bernama Annisa dan Chintya\n"
          ]
        }
      ]
    },
    {
      "cell_type": "code",
      "source": [
        "print('Halo {namaDepan} {namaBelakang}'.format(namaDepan='Chintya', namaBelakang='Santoso'))\n",
        "# Halo Chintya Santoso\n",
        "\n",
        "print('Halo {namaDepan} {namaBelakang}'.format(namaBelakang='Santoso', namaDepan='Chintya'))\n",
        "# Halo Chintya Santoso"
      ],
      "metadata": {
        "colab": {
          "base_uri": "https://localhost:8080/"
        },
        "id": "K994Ldzv2LoF",
        "outputId": "a2148d0d-fd46-418d-c94e-f3ce19589b6d"
      },
      "execution_count": 7,
      "outputs": [
        {
          "output_type": "stream",
          "name": "stdout",
          "text": [
            "Halo Chintya Santoso\n",
            "Halo Chintya Santoso\n"
          ]
        }
      ]
    },
    {
      "cell_type": "code",
      "source": [
        "print(f\"Mahasiswi bernama {mahasiswa1}\")"
      ],
      "metadata": {
        "colab": {
          "base_uri": "https://localhost:8080/"
        },
        "id": "cQS0dwDZl8DV",
        "outputId": "c6df6064-54d5-43fd-ef84-ba6d7c815a2b"
      },
      "execution_count": 17,
      "outputs": [
        {
          "output_type": "stream",
          "name": "stdout",
          "text": [
            "Mahasiswi bernama Chintya\n"
          ]
        }
      ]
    },
    {
      "cell_type": "code",
      "source": [
        "a=10\n",
        "b=5\n",
        "print (\"{} + {} = {}\".format(a, b, a + b))"
      ],
      "metadata": {
        "colab": {
          "base_uri": "https://localhost:8080/"
        },
        "id": "0NPeGpdwwlgA",
        "outputId": "7e72bd55-602f-4215-fe7f-c390f223033f"
      },
      "execution_count": 8,
      "outputs": [
        {
          "output_type": "stream",
          "name": "stdout",
          "text": [
            "10 + 5 = 15\n"
          ]
        }
      ]
    },
    {
      "cell_type": "code",
      "source": [
        "alas = 8\n",
        "tinggi = 4\n",
        "luas = alas*tinggi/2\n",
        "\n",
        "print (\"Luas = \",luas)"
      ],
      "metadata": {
        "colab": {
          "base_uri": "https://localhost:8080/"
        },
        "id": "hyN3e2Q83xZY",
        "outputId": "984aaf66-39d4-4739-a491-5f5ca03ed7c3"
      },
      "execution_count": 9,
      "outputs": [
        {
          "output_type": "stream",
          "name": "stdout",
          "text": [
            "Luas =  16.0\n"
          ]
        }
      ]
    },
    {
      "cell_type": "markdown",
      "source": [
        "## **I/O Stream**"
      ],
      "metadata": {
        "id": "A1GAdHmz5hD1"
      }
    },
    {
      "cell_type": "code",
      "source": [
        "#input nama\n",
        "nama = input(\"Masukkan nama kamu : \") #secara default inputan bertipe String, meskipun diisi angka numerik sekalipun\n",
        "print(\"Nama kamu \", nama)"
      ],
      "metadata": {
        "colab": {
          "base_uri": "https://localhost:8080/"
        },
        "id": "uH_zasxr2ZCG",
        "outputId": "e8c31f4b-4bdc-409c-904a-d647083a2632"
      },
      "execution_count": 10,
      "outputs": [
        {
          "output_type": "stream",
          "name": "stdout",
          "text": [
            "Masukkan nama kamu : Ali\n",
            "Nama kamu  Ali\n"
          ]
        }
      ]
    },
    {
      "cell_type": "code",
      "source": [
        "#input nama\n",
        "nama_depan = input(\"Masukkan nama depan kamu : \") #secara default inputan bertipe String, meskipun diisi angka numerik sekalipun\n",
        "print(\"Nama kamu \", nama_depan)\n",
        "nama_belakang = input(\"Masukkan nama belakang kamu : \")\n",
        "print(\"Nama belakang kamu\",nama_belakang)\n",
        "print(\"Nama lengkap kamu :\",nama_depan,nama_belakang)"
      ],
      "metadata": {
        "colab": {
          "base_uri": "https://localhost:8080/"
        },
        "id": "RkzLCzSJQmkO",
        "outputId": "d67f82d9-d64b-4870-bc67-974a0b26ab1b"
      },
      "execution_count": 1,
      "outputs": [
        {
          "output_type": "stream",
          "name": "stdout",
          "text": [
            "Masukkan nama depan kamu : Muhammad\n",
            "Nama kamu  Muhammad\n",
            "Masukkan nama belakang kamu : Fikri\n",
            "Nama belakang kamu Fikri\n",
            "Nama lengkap kamu : Muhammad Fikri\n"
          ]
        }
      ]
    },
    {
      "cell_type": "code",
      "source": [
        "#Kesalahan input tipe data karena terjadi operasi aritmatika terhadap String\n",
        "alas = input(\"Masukkan alas : \")\n",
        "tinggi = input(\"Masukkan tinggi : \")\n",
        "luas = alas*tinggi/2\n",
        "print (\"Luas segitiga \", luas)"
      ],
      "metadata": {
        "colab": {
          "base_uri": "https://localhost:8080/",
          "height": 274
        },
        "id": "4_zyFlbl5Xyq",
        "outputId": "104f2bfa-f590-48d1-8445-da8fd6b3a89d"
      },
      "execution_count": 11,
      "outputs": [
        {
          "name": "stdout",
          "output_type": "stream",
          "text": [
            "Masukkan alas : 2\n",
            "Masukkan tinggi : 4\n"
          ]
        },
        {
          "output_type": "error",
          "ename": "TypeError",
          "evalue": "ignored",
          "traceback": [
            "\u001b[0;31m---------------------------------------------------------------------------\u001b[0m",
            "\u001b[0;31mTypeError\u001b[0m                                 Traceback (most recent call last)",
            "\u001b[0;32m<ipython-input-11-1036f661a724>\u001b[0m in \u001b[0;36m<cell line: 4>\u001b[0;34m()\u001b[0m\n\u001b[1;32m      2\u001b[0m \u001b[0malas\u001b[0m \u001b[0;34m=\u001b[0m \u001b[0minput\u001b[0m\u001b[0;34m(\u001b[0m\u001b[0;34m\"Masukkan alas : \"\u001b[0m\u001b[0;34m)\u001b[0m\u001b[0;34m\u001b[0m\u001b[0;34m\u001b[0m\u001b[0m\n\u001b[1;32m      3\u001b[0m \u001b[0mtinggi\u001b[0m \u001b[0;34m=\u001b[0m \u001b[0minput\u001b[0m\u001b[0;34m(\u001b[0m\u001b[0;34m\"Masukkan tinggi : \"\u001b[0m\u001b[0;34m)\u001b[0m\u001b[0;34m\u001b[0m\u001b[0;34m\u001b[0m\u001b[0m\n\u001b[0;32m----> 4\u001b[0;31m \u001b[0mluas\u001b[0m \u001b[0;34m=\u001b[0m \u001b[0malas\u001b[0m\u001b[0;34m*\u001b[0m\u001b[0mtinggi\u001b[0m\u001b[0;34m/\u001b[0m\u001b[0;36m2\u001b[0m\u001b[0;34m\u001b[0m\u001b[0;34m\u001b[0m\u001b[0m\n\u001b[0m\u001b[1;32m      5\u001b[0m \u001b[0mprint\u001b[0m \u001b[0;34m(\u001b[0m\u001b[0;34m\"Luas segitiga \"\u001b[0m\u001b[0;34m,\u001b[0m \u001b[0mluas\u001b[0m\u001b[0;34m)\u001b[0m\u001b[0;34m\u001b[0m\u001b[0;34m\u001b[0m\u001b[0m\n",
            "\u001b[0;31mTypeError\u001b[0m: can't multiply sequence by non-int of type 'str'"
          ]
        }
      ]
    },
    {
      "cell_type": "code",
      "source": [
        "alas = input(\"Masukkan alas : \")\n",
        "tinggi = input(\"Masukkan tinggi : \")\n",
        "luas = (int(alas)*int(tinggi))/2\n",
        "print (\"Luas segitiga \", luas)"
      ],
      "metadata": {
        "colab": {
          "base_uri": "https://localhost:8080/"
        },
        "id": "9xmr580X6vZZ",
        "outputId": "13a33ef4-1ef1-44e0-89bb-70cc19ef965c"
      },
      "execution_count": null,
      "outputs": [
        {
          "output_type": "stream",
          "name": "stdout",
          "text": [
            "Masukkan alas : 4\n",
            "Masukkan tinggi : 8\n",
            "Luas segitiga  16.0\n"
          ]
        }
      ]
    },
    {
      "cell_type": "code",
      "source": [],
      "metadata": {
        "id": "--VXRMLt4o_9"
      },
      "execution_count": null,
      "outputs": []
    }
  ]
}