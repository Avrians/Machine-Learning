{
  "nbformat": 4,
  "nbformat_minor": 0,
  "metadata": {
    "colab": {
      "provenance": []
    },
    "kernelspec": {
      "name": "python3",
      "display_name": "Python 3"
    },
    "language_info": {
      "name": "python"
    }
  },
  "cells": [
    {
      "cell_type": "markdown",
      "source": [
        "# **Fungsi di Python**"
      ],
      "metadata": {
        "id": "g7rvQtn17A8D"
      }
    },
    {
      "cell_type": "code",
      "source": [
        "#Deklarasi fungsi sederhana\n",
        "def cetak_nama():\n",
        "  print (\"Hallo namaku Annisa\")"
      ],
      "metadata": {
        "id": "htGuy1qOtBZZ"
      },
      "execution_count": 1,
      "outputs": []
    },
    {
      "cell_type": "code",
      "source": [
        "#Pemanggilan fungsi\n",
        "cetak_nama()"
      ],
      "metadata": {
        "colab": {
          "base_uri": "https://localhost:8080/"
        },
        "id": "6eOMh8vrtabW",
        "outputId": "fbec3834-722f-4d8c-af57-1714cf62ff93"
      },
      "execution_count": 2,
      "outputs": [
        {
          "output_type": "stream",
          "name": "stdout",
          "text": [
            "Hallo namaku Annisa\n"
          ]
        }
      ]
    },
    {
      "cell_type": "code",
      "source": [
        "#Deklarasi Fungsi\n",
        "def luas_segitiga(alas, tinggi):\n",
        "  luas = (alas*tinggi)/2\n",
        "  print (\"Luas Segitiga: %f\" % luas)\n",
        "\n",
        "#Pemanggilan Fungsi\n",
        "luas_segitiga(4,8)\n",
        "luas_segitiga(4,2)\n",
        "luas_segitiga(2,8)"
      ],
      "metadata": {
        "colab": {
          "base_uri": "https://localhost:8080/"
        },
        "id": "uBk8IKt67I1L",
        "outputId": "b49fa852-7cf4-4342-a54b-4548b7120e28"
      },
      "execution_count": 6,
      "outputs": [
        {
          "output_type": "stream",
          "name": "stdout",
          "text": [
            "Luas Segitiga: 16.000000\n",
            "Luas Segitiga: 4.000000\n",
            "Luas Segitiga: 8.000000\n"
          ]
        }
      ]
    },
    {
      "cell_type": "code",
      "source": [
        "#Jika kita ingin mengeksekusi suatu perintah yang sama tanpa menggunakan Fungsi,\n",
        "#maka butuh berulangkali menuliskan sintaks yang sama\n",
        "alas = 4\n",
        "tinggi= 8\n",
        "luas = alas*tinggi/2\n",
        "\n",
        "print(\"Luas Segitiga: \", luas)\n",
        "\n",
        "alas = 4\n",
        "tinggi= 2\n",
        "luas = alas*tinggi/2\n",
        "\n",
        "print(\"Luas Segitiga: \", luas)\n",
        "\n",
        "alas = 2\n",
        "tinggi= 8\n",
        "luas = alas*tinggi/2\n",
        "\n",
        "print(\"Luas Segitiga: \", luas)"
      ],
      "metadata": {
        "colab": {
          "base_uri": "https://localhost:8080/"
        },
        "id": "c6wbmmBG-KCt",
        "outputId": "911245b6-5768-4bb4-a616-500b0d37b19a"
      },
      "execution_count": 7,
      "outputs": [
        {
          "output_type": "stream",
          "name": "stdout",
          "text": [
            "Luas Segitiga:  16.0\n",
            "Luas Segitiga:  4.0\n",
            "Luas Segitiga:  8.0\n"
          ]
        }
      ]
    },
    {
      "cell_type": "code",
      "source": [
        "#Fungsi I/O Stream\n",
        "def luas_segitiga(alas, tinggi):\n",
        "  luas = (alas*tinggi)/2\n",
        "  print (\"Luas Segitiga: %f\" % luas)\n",
        "\n",
        "#Meminta inputan dari keyboard\n",
        "alas=input(\"Masukkan alas: \")\n",
        "alas=float(alas) #konversi string ke float\n",
        "tinggi=input(\"Masukkan tinggi :\")\n",
        "tinggi=float(tinggi)\n",
        "\n",
        "#Pemanggilan Fungsi\n",
        "luas_segitiga(alas,tinggi)"
      ],
      "metadata": {
        "colab": {
          "base_uri": "https://localhost:8080/"
        },
        "id": "IdUrP0pODOgj",
        "outputId": "338b5fe5-2236-4323-9c7d-dea7ee17940e"
      },
      "execution_count": 8,
      "outputs": [
        {
          "output_type": "stream",
          "name": "stdout",
          "text": [
            "Masukkan alas: 4\n",
            "Masukkan tinggi :8\n",
            "Luas Segitiga: 16.000000\n"
          ]
        }
      ]
    },
    {
      "cell_type": "code",
      "source": [
        "#Deklarasi Fungsi\n",
        "def luas_segitiga(alas, tinggi):\n",
        "  luas = (float(alas)*float(tinggi))/2\n",
        "  hasil = luas\n",
        "  return luas\n",
        "\n",
        "#Meminta inputan dari pengguna\n",
        "alas = input(\"Masukkan alas : \")\n",
        "tinggi = input(\"Masukkan tinggi : \")\n",
        "\n",
        "#Memanggil Fungsi\n",
        "luas = luas_segitiga(alas,tinggi)\n",
        "print(\"Luas Segitiga: \",luas)"
      ],
      "metadata": {
        "colab": {
          "base_uri": "https://localhost:8080/"
        },
        "id": "LHU8zjXVHpPz",
        "outputId": "b9b78616-0904-4daa-f765-137aeab6c888"
      },
      "execution_count": 10,
      "outputs": [
        {
          "output_type": "stream",
          "name": "stdout",
          "text": [
            "Masukkan alas : 4\n",
            "Masukkan tinggi : 8\n",
            "Luas Segitiga:  16.0\n"
          ]
        }
      ]
    }
  ]
}